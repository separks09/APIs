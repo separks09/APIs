{
 "cells": [
  {
   "cell_type": "markdown",
   "metadata": {},
   "source": [
    "Proving the randomness of data using CitiPy"
   ]
  },
  {
   "cell_type": "markdown",
   "metadata": {},
   "source": [
    "The largest hurdle to using random latitiudes and longitudes to call on OpenWeatherMap I could see is that 71% of the earth is water.  Any lat/long that fell into these areas too far from the shore was likely to be returned by OpenWeatherMap as \"not found\".  By using CitiPy first, you can map the coordinates that fall into the ocean to the nearest city on land.  You might still get some cities that are \"not found\" on OpenWeatherMap, as well as duplicate cities (most likely due to being the closest city on land to two different sets of coordinates over the ocean).  But overall passing coordinates through CitiPy gives you cleaner data to pass on to OpenWeatherMap.  But do CitiPy's methods of locating the closest city keep the cities spread out over the world?\n",
    "\n",
    "(additional resource: https://dev.maxmind.com/geoip/legacy/codes/country_continent/)"
   ]
  },
  {
   "cell_type": "code",
   "execution_count": 3,
   "metadata": {},
   "outputs": [],
   "source": [
    "import csv\n",
    "import pandas as pd"
   ]
  },
  {
   "cell_type": "code",
   "execution_count": 4,
   "metadata": {},
   "outputs": [],
   "source": [
    "cities_df = pd.read_csv(\"WeatherPy.csv\")"
   ]
  },
  {
   "cell_type": "markdown",
   "metadata": {},
   "source": [
    "Out of 195 countries in the world, how many did our random coordinates find?"
   ]
  },
  {
   "cell_type": "code",
   "execution_count": 5,
   "metadata": {},
   "outputs": [
    {
     "data": {
      "text/plain": [
       "113"
      ]
     },
     "execution_count": 5,
     "metadata": {},
     "output_type": "execute_result"
    }
   ],
   "source": [
    "cities_df[\"Country\"].nunique()"
   ]
  },
  {
   "cell_type": "code",
   "execution_count": 6,
   "metadata": {},
   "outputs": [],
   "source": [
    "continents_df = pd.read_csv(\"country_continent.csv\")\n",
    "continents_df = continents_df.rename(columns={\"iso 3166 country\":\"Country\",\"continent code\":\"Continent\"})\n",
    "continents_df.set_index('Country', inplace=True)"
   ]
  },
  {
   "cell_type": "code",
   "execution_count": 7,
   "metadata": {},
   "outputs": [],
   "source": [
    "coastal_df = cities_df[[\"Country\",\"City ID\"]]\n",
    "coastal_df = coastal_df.groupby([\"Country\"]).count()\n",
    "coastal_df = coastal_df.sort_values([\"City ID\"],ascending = False)\n",
    "coastal_df = coastal_df.rename(columns={\"City ID\": \"Cities in Random\"})"
   ]
  },
  {
   "cell_type": "code",
   "execution_count": 8,
   "metadata": {},
   "outputs": [],
   "source": [
    "coastal_df = coastal_df.join(continents_df)"
   ]
  },
  {
   "cell_type": "markdown",
   "metadata": {},
   "source": [
    "I would expect to see more cities from the largest countries, as well as those countries with the longest coastlines (referencing the ocean coordinates being mapped to land)."
   ]
  },
  {
   "cell_type": "code",
   "execution_count": 11,
   "metadata": {},
   "outputs": [
    {
     "data": {
      "text/html": [
       "<div>\n",
       "<style scoped>\n",
       "    .dataframe tbody tr th:only-of-type {\n",
       "        vertical-align: middle;\n",
       "    }\n",
       "\n",
       "    .dataframe tbody tr th {\n",
       "        vertical-align: top;\n",
       "    }\n",
       "\n",
       "    .dataframe thead th {\n",
       "        text-align: right;\n",
       "    }\n",
       "</style>\n",
       "<table border=\"1\" class=\"dataframe\">\n",
       "  <thead>\n",
       "    <tr style=\"text-align: right;\">\n",
       "      <th></th>\n",
       "      <th>Cities in Random</th>\n",
       "      <th>Continent</th>\n",
       "      <th>Rank in World (coastline)</th>\n",
       "      <th>Rank in World (mass)</th>\n",
       "    </tr>\n",
       "    <tr>\n",
       "      <th>Country</th>\n",
       "      <th></th>\n",
       "      <th></th>\n",
       "      <th></th>\n",
       "      <th></th>\n",
       "    </tr>\n",
       "  </thead>\n",
       "  <tbody>\n",
       "    <tr>\n",
       "      <th>RU</th>\n",
       "      <td>62</td>\n",
       "      <td>Europe</td>\n",
       "      <td>3rd</td>\n",
       "      <td>1st</td>\n",
       "    </tr>\n",
       "    <tr>\n",
       "      <th>US</th>\n",
       "      <td>48</td>\n",
       "      <td>North America</td>\n",
       "      <td>8th</td>\n",
       "      <td>3rd</td>\n",
       "    </tr>\n",
       "    <tr>\n",
       "      <th>CA</th>\n",
       "      <td>36</td>\n",
       "      <td>North America</td>\n",
       "      <td>1st</td>\n",
       "      <td>2nd</td>\n",
       "    </tr>\n",
       "    <tr>\n",
       "      <th>BR</th>\n",
       "      <td>28</td>\n",
       "      <td>South America</td>\n",
       "      <td>17th</td>\n",
       "      <td>5th</td>\n",
       "    </tr>\n",
       "    <tr>\n",
       "      <th>AU</th>\n",
       "      <td>18</td>\n",
       "      <td>Oceania</td>\n",
       "      <td>6th</td>\n",
       "      <td>6th</td>\n",
       "    </tr>\n",
       "    <tr>\n",
       "      <th>ID</th>\n",
       "      <td>15</td>\n",
       "      <td>Asia</td>\n",
       "      <td>2nd</td>\n",
       "      <td>unk</td>\n",
       "    </tr>\n",
       "    <tr>\n",
       "      <th>CN</th>\n",
       "      <td>15</td>\n",
       "      <td>Asia</td>\n",
       "      <td>11th</td>\n",
       "      <td>4th</td>\n",
       "    </tr>\n",
       "    <tr>\n",
       "      <th>AR</th>\n",
       "      <td>12</td>\n",
       "      <td>South America</td>\n",
       "      <td>unk</td>\n",
       "      <td>8th</td>\n",
       "    </tr>\n",
       "    <tr>\n",
       "      <th>PH</th>\n",
       "      <td>11</td>\n",
       "      <td>Asia</td>\n",
       "      <td>4th</td>\n",
       "      <td>unk</td>\n",
       "    </tr>\n",
       "    <tr>\n",
       "      <th>MX</th>\n",
       "      <td>10</td>\n",
       "      <td>North America</td>\n",
       "      <td>14th</td>\n",
       "      <td>14th</td>\n",
       "    </tr>\n",
       "  </tbody>\n",
       "</table>\n",
       "</div>"
      ],
      "text/plain": [
       "         Cities in Random      Continent Rank in World (coastline)  \\\n",
       "Country                                                              \n",
       "RU                     62         Europe                       3rd   \n",
       "US                     48  North America                       8th   \n",
       "CA                     36  North America                       1st   \n",
       "BR                     28  South America                      17th   \n",
       "AU                     18        Oceania                       6th   \n",
       "ID                     15           Asia                       2nd   \n",
       "CN                     15           Asia                      11th   \n",
       "AR                     12  South America                       unk   \n",
       "PH                     11           Asia                       4th   \n",
       "MX                     10  North America                      14th   \n",
       "\n",
       "        Rank in World (mass)  \n",
       "Country                       \n",
       "RU                       1st  \n",
       "US                       3rd  \n",
       "CA                       2nd  \n",
       "BR                       5th  \n",
       "AU                       6th  \n",
       "ID                       unk  \n",
       "CN                       4th  \n",
       "AR                       8th  \n",
       "PH                       unk  \n",
       "MX                      14th  "
      ]
     },
     "execution_count": 11,
     "metadata": {},
     "output_type": "execute_result"
    }
   ],
   "source": [
    "rank = ['3rd','8th','1st','17th','6th','2nd','11th','unk','4th','14th']\n",
    "mass = ['1st','3rd','2nd','5th','6th','unk','4th','8th','unk','14th']\n",
    "x = 10\n",
    "for x in range(103):\n",
    "    #coastlines.append('unk')\n",
    "    rank.append('unk')\n",
    "    mass.append('unk')\n",
    "    x = x + 1\n",
    "#coastal_df[\"Coastline (in miles)\"] = coastlines\n",
    "coastal_df[\"Rank in World (coastline)\"] = rank\n",
    "coastal_df[\"Rank in World (mass)\"] = mass\n",
    "coastal_df.head(10) "
   ]
  },
  {
   "cell_type": "markdown",
   "metadata": {},
   "source": [
    "But are the countries, regardless of size, spread across all regions of the earth?"
   ]
  },
  {
   "cell_type": "code",
   "execution_count": 12,
   "metadata": {},
   "outputs": [
    {
     "data": {
      "text/plain": [
       "Africa           32\n",
       "Asia             26\n",
       "Europe           20\n",
       "North America    15\n",
       "South America    10\n",
       "Oceania          10\n",
       "Name: Continent, dtype: int64"
      ]
     },
     "execution_count": 12,
     "metadata": {},
     "output_type": "execute_result"
    }
   ],
   "source": [
    "coastal_df[\"Continent\"].value_counts()"
   ]
  },
  {
   "cell_type": "markdown",
   "metadata": {},
   "source": [
    "CitiPy, using random lat/long generation, pulled cities from 6 of 7 continents.  Antarctica has no permenant cities, and thus no returns.  So I conclude that passing coordinates through CitiPy to make OpenWeatherMap calls easier, still gave us appropriately random and diverse data."
   ]
  }
 ],
 "metadata": {
  "kernelspec": {
   "display_name": "Python 3",
   "language": "python",
   "name": "python3"
  },
  "language_info": {
   "codemirror_mode": {
    "name": "ipython",
    "version": 3
   },
   "file_extension": ".py",
   "mimetype": "text/x-python",
   "name": "python",
   "nbconvert_exporter": "python",
   "pygments_lexer": "ipython3",
   "version": "3.6.4"
  }
 },
 "nbformat": 4,
 "nbformat_minor": 2
}
